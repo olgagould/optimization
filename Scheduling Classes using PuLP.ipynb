{
 "cells": [
  {
   "cell_type": "code",
   "execution_count": null,
   "metadata": {},
   "outputs": [],
   "source": []
  },
  {
   "cell_type": "code",
   "execution_count": 21,
   "metadata": {},
   "outputs": [],
   "source": [
    "import sys\n",
    "import pulp"
   ]
  },
  {
   "cell_type": "code",
   "execution_count": 22,
   "metadata": {},
   "outputs": [],
   "source": [
    "#Rooms and sizes\n",
    "rooms = {\n",
    "    'A': 100,\n",
    "    'B': 50,\n",
    "    'C': 50, \n",
    "}\n",
    "#talks duration\n",
    "talks = {\n",
    "    'Python': 30, \n",
    "    'Java' : 30, \n",
    "    'C#' :60,\n",
    "    'Java' :90, \n",
    "}\n",
    "#Available slots: Room, start time and duration: total time:150 min\n",
    "slots = [\n",
    "    ('A', 0, 30),\n",
    "    ('A',30, 60),\n",
    "    ('A',90, 60),    \n",
    "    ('B', 0, 30),\n",
    "    ('B',30, 90),\n",
    "    ('B',120, 30),\n",
    "    ('C', 0, 90),\n",
    "    ('C',90, 60),\n",
    "\n",
    "]"
   ]
  },
  {
   "cell_type": "code",
   "execution_count": 23,
   "metadata": {},
   "outputs": [],
   "source": [
    "#Proble definition\n",
    "problem =pulp.LpProblem ('Conference Scedule', sense=pulp.LpMaximize)"
   ]
  },
  {
   "cell_type": "code",
   "execution_count": 24,
   "metadata": {},
   "outputs": [],
   "source": [
    "#Variables\n",
    "assign = {\n",
    "    (talk, slot):pulp.LpVariable('%r in slot %r' %\n",
    "                                 (talk, slot),\n",
    "                                 cat = pulp.LpBinary)\n",
    "    for talk in talks\n",
    "                                 \n",
    "    for slot in slots\n",
    "}\n",
    "                                 \n",
    "#Print(assign)                                 "
   ]
  },
  {
   "cell_type": "code",
   "execution_count": 25,
   "metadata": {},
   "outputs": [],
   "source": [
    "#Constraints\n",
    "#add slot constraints\n",
    "for slot in slots:\n",
    "    #each slot may only be assigned at most onece\n",
    "    #Only assign one talk per slot\n",
    "    problem.addConstraint(\n",
    "    sum(assign[(talk,slot)]\n",
    "       for talk in talks)\n",
    "    <=1)"
   ]
  },
  {
   "cell_type": "code",
   "execution_count": 26,
   "metadata": {},
   "outputs": [],
   "source": [
    "#Assign all talks\n",
    "#Add talk contraints\n",
    "for talk in talks:\n",
    "        #all talks have to be assigned\n",
    "    problem.addConstraint(\n",
    "        sum(assign[(talk,slot)]\n",
    "            for slot in slots)\n",
    "        ==1)\n",
    "    problem.addConstraint(\n",
    "        sum(slot[2]* assign[(talk,slot)]\n",
    "            for slot in slots)\n",
    "        == talks[talk])\n",
    "    #Talks must fit the talk slots"
   ]
  },
  {
   "cell_type": "code",
   "execution_count": 7,
   "metadata": {},
   "outputs": [],
   "source": [
    "#NONONONO Constraints\n",
    "#Talk mus start later.Speaker not always available\n",
    "talk = 'Python'\n",
    "for slot in slots:\n",
    "    if slot[1]<90:\n",
    "        problem.addConstraint(\n",
    "            assign[(talk,slot)] ==0)"
   ]
  },
  {
   "cell_type": "code",
   "execution_count": 8,
   "metadata": {},
   "outputs": [],
   "source": [
    "#More than one talk per speaker\n",
    "#Two talks given by the same person\n",
    "talks_same_speaker = ('C#',\n",
    "                      'Java',\n",
    "                     )\n",
    "#REPETIDO Available slots: Room, start time and duration: total time:150 min\n",
    "#slots = [\n",
    "#    ('A', 0, 30),\n",
    "#    ('A',30, 60),\n",
    "#    ('A',90, 60),    \n",
    "#   ('B', 0, 30),\n",
    "#    ('B',30, 90),\n",
    "#    ('B',120, 30),\n",
    "#    ('C', 0, 90),\n",
    "#    ('C',90, 60),\n",
    "#\n",
    "#]"
   ]
  },
  {
   "cell_type": "code",
   "execution_count": null,
   "metadata": {},
   "outputs": [],
   "source": []
  },
  {
   "cell_type": "code",
   "execution_count": 9,
   "metadata": {},
   "outputs": [],
   "source": [
    "#Define some helper mappings\n",
    "#Blocks: slots are arranged in a fixed 30 min block schedule; \n",
    "#each block is mapped to a slot in the schedule\n",
    "blocks ={\n",
    "    (room,start):None\n",
    "    for room in sorted(rooms)\n",
    "    for start in range(0,150,30)\n",
    "}\n",
    "\n",
    "#Block assigment variables\n",
    "block_assign = {\n",
    "    (talk, block): pulp.LpVariable('%r in block %r' %\n",
    "                                  (talk, block),\n",
    "                                  cat=pulp.LpBinary)\n",
    "    for talk in talks\n",
    "    for block in blocks\n",
    "}"
   ]
  },
  {
   "cell_type": "code",
   "execution_count": 10,
   "metadata": {},
   "outputs": [],
   "source": [
    "#Find blocks per slot\n",
    "blocks_per_slot = {}\n",
    "for slot in slots:\n",
    "    room, start, duration = slot\n",
    "    slot_blocks = []\n",
    "    for block_time in range(start, start + duration, 30):\n",
    "        blocks[(room, block_time)] = slot\n",
    "        slot_blocks.append((room,block_time))\n",
    "    blocks_per_slot[slot] = slot_blocks"
   ]
  },
  {
   "cell_type": "code",
   "execution_count": 11,
   "metadata": {},
   "outputs": [],
   "source": [
    "#Find blocks per start time\n",
    "time_blocks = {\n",
    "    start:[(room, start)\n",
    "          for room in sorted(rooms)]\n",
    "    for start in range(0, 150, 30)\n",
    "}"
   ]
  },
  {
   "cell_type": "code",
   "execution_count": 12,
   "metadata": {},
   "outputs": [],
   "source": [
    "#Add slot contraints.  Link slots and blocks\n",
    "for slot in slots:\n",
    "    #Each slot may only be assigned at most once\n",
    "    problem.addConstraint(\n",
    "        sum(assign[(talk, slot)]\n",
    "           for talk in talks)\n",
    "    <=1)\n",
    "    #Tie the block to the corresponding slots\n",
    "    for block in blocks_per_slot[slot]:\n",
    "        for talk in talks:\n",
    "            problem.addConstraint(\n",
    "            assign[(talk, slot)] == block_assign[(talk, block)])"
   ]
  },
  {
   "cell_type": "code",
   "execution_count": 13,
   "metadata": {},
   "outputs": [],
   "source": [
    "#REPETIDO Two talks given by the same person\n",
    "#talks_same_speaker = (\n",
    "#    'C#',\n",
    "#    'Java',\n",
    "#    )\n",
    "for blocks_per_time in time_blocks.values():\n",
    "    problem.addConstraint(\n",
    "        sum(block_assign[(talk,block)]\n",
    "               for talk in talks_same_speaker\n",
    "               for block in blocks_per_time)\n",
    "        <=1)"
   ]
  },
  {
   "cell_type": "code",
   "execution_count": 28,
   "metadata": {},
   "outputs": [
    {
     "name": "stdout",
     "output_type": "stream",
     "text": [
      "failed Not Solved\n"
     ]
    },
    {
     "ename": "SystemExit",
     "evalue": "1",
     "output_type": "error",
     "traceback": [
      "An exception has occurred, use %tb to see the full traceback.\n",
      "\u001b[1;31mSystemExit\u001b[0m\u001b[1;31m:\u001b[0m 1\n"
     ]
    }
   ],
   "source": [
    "#Define objective function & run solver\n",
    "solver = None\n",
    "problem.solve=(solver)\n",
    "#Check Status\n",
    "if problem.status == 1:\n",
    "    print('found a solution. \\n')\n",
    "else: \n",
    "    print('failed %s' % pulp.LpStatus[problem.status])\n",
    "    sys.exit(1)"
   ]
  },
  {
   "cell_type": "code",
   "execution_count": null,
   "metadata": {},
   "outputs": [],
   "source": []
  },
  {
   "cell_type": "code",
   "execution_count": null,
   "metadata": {},
   "outputs": [],
   "source": []
  },
  {
   "cell_type": "code",
   "execution_count": null,
   "metadata": {},
   "outputs": [],
   "source": []
  },
  {
   "cell_type": "code",
   "execution_count": null,
   "metadata": {},
   "outputs": [],
   "source": []
  }
 ],
 "metadata": {
  "kernelspec": {
   "display_name": "Python 3",
   "language": "python",
   "name": "python3"
  },
  "language_info": {
   "codemirror_mode": {
    "name": "ipython",
    "version": 3
   },
   "file_extension": ".py",
   "mimetype": "text/x-python",
   "name": "python",
   "nbconvert_exporter": "python",
   "pygments_lexer": "ipython3",
   "version": "3.7.4"
  }
 },
 "nbformat": 4,
 "nbformat_minor": 2
}
