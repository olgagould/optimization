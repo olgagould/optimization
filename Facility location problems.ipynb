{
 "cells": [
  {
   "cell_type": "code",
   "execution_count": 19,
   "metadata": {},
   "outputs": [],
   "source": [
    "#Capacitated facility location problem\n",
    "#  The capacitated facility location problem is the basis for many practical \n",
    "#  optimization problems, where the total demand that each facility may satisfy \n",
    "#  is limited. Hence, modeling such problem must take into account both demand \n",
    "#  satisfaction and capacity constraints.\n",
    "#  See https://scipbook.readthedocs.io/en/latest/flp.html\n",
    "from pulp import *"
   ]
  },
  {
   "cell_type": "code",
   "execution_count": 20,
   "metadata": {},
   "outputs": [],
   "source": [
    "customers = {1,2,3,4,5}\n",
    "facilities = {'f1', 'f2','f3'}\n",
    "demand = {1:80, 2:270, 3:250, 4:160, 5:180}\n",
    "actcost = {'f1':1000, 'f2':1000, 'f3':1000}\n",
    "maxam = {'f1':500, 'f2':500, 'f3':500}\n",
    "transp = {'f1':{1:4, 2:5, 3:6, 4:8, 5:10},\n",
    "          'f2':{1:6, 2:4, 3:3, 4:5, 5:8},\n",
    "          'f3':{1:9, 2:7, 3:4, 4:3, 5:4}}\n",
    "         "
   ]
  },
  {
   "cell_type": "code",
   "execution_count": 21,
   "metadata": {},
   "outputs": [],
   "source": [
    "prob = LpProblem(\"FacilityLocation\", LpMinimize)"
   ]
  },
  {
   "cell_type": "code",
   "execution_count": 22,
   "metadata": {},
   "outputs": [],
   "source": [
    "serv_vars = LpVariable.dicts (\"Service\", \n",
    "                             [(i,j) for i in customers \n",
    "                                    for j in facilities], \n",
    "                             0)\n",
    "use_vars = LpVariable.dicts (\"useLocation\", facilities, 0,0, LpBinary)"
   ]
  },
  {
   "cell_type": "code",
   "execution_count": 23,
   "metadata": {},
   "outputs": [],
   "source": [
    "prob += lpSum(actcost[j]*use_vars[j] for j in facilities) +lpSum (transp[j][i]*serv_vars[(i,j)] for j in facilities for i in customers)\n",
    "for i in customers:\n",
    "    prob +=lpSum(serv_vars[(i,j)] for j in facility) == demand[i]\n",
    "    \n",
    "for j in facilities:\n",
    "    prob +=lpSum(serv_vars[(i,j)] for i in customers) <= maxam[j]  * use_vars[j]\n",
    "\n",
    "for i in customers:   \n",
    "    for j in facilities:\n",
    "        prob += serv_vars[(i,j)] <= demand[i]*use_vars[j]\n",
    "        "
   ]
  },
  {
   "cell_type": "code",
   "execution_count": 34,
   "metadata": {},
   "outputs": [
    {
     "name": "stdout",
     "output_type": "stream",
     "text": [
      "status Optimal\n",
      "Facilities at nodes: {'f3', 'f1', 'f2'}\n"
     ]
    }
   ],
   "source": [
    "prob.solve()\n",
    "print (\"status\", LpStatus[prob.status])\n",
    "print (\"Facilities at nodes:\", facilities)"
   ]
  },
  {
   "cell_type": "code",
   "execution_count": 47,
   "metadata": {},
   "outputs": [
    {
     "name": "stdout",
     "output_type": "stream",
     "text": [
      "Establish facility at site f3\n",
      "Establish facility at site f2\n",
      "Service_(1,_'f1') = 0.0\n",
      "Service_(1,_'f2') = 80.0\n",
      "Service_(1,_'f3') = 0.0\n",
      "Service_(2,_'f1') = 0.0\n",
      "Service_(2,_'f2') = 270.0\n",
      "Service_(2,_'f3') = 0.0\n",
      "Service_(3,_'f1') = 0.0\n",
      "Service_(3,_'f2') = 150.0\n",
      "Service_(3,_'f3') = 100.0\n",
      "Service_(4,_'f1') = 0.0\n",
      "Service_(4,_'f2') = 0.0\n",
      "Service_(4,_'f3') = 160.0\n",
      "Service_(5,_'f1') = 0.0\n",
      "Service_(5,_'f2') = 0.0\n",
      "Service_(5,_'f3') = 180.0\n",
      "useLocation_f1 = 0.0\n",
      "useLocation_f2 = 1.0\n",
      "useLocation_f3 = 1.0\n"
     ]
    }
   ],
   "source": [
    "TOL = 0.00001\n",
    "for i in facilities:\n",
    "    if use_vars[i].varValue >TOL:\n",
    "         print(\"Establish facility at site\", i)\n",
    "    \n",
    "for v in prob.variables():\n",
    "    print (v.name,\"=\",v.varValue)\n",
    "    \n",
    "    "
   ]
  },
  {
   "cell_type": "code",
   "execution_count": 49,
   "metadata": {},
   "outputs": [
    {
     "name": "stdout",
     "output_type": "stream",
     "text": [
      "the cost of production in dollars for one year 5610.0\n"
     ]
    }
   ],
   "source": [
    "print(\"the cost of production in dollars for one year\", value(prob.objective))"
   ]
  },
  {
   "cell_type": "code",
   "execution_count": null,
   "metadata": {},
   "outputs": [],
   "source": []
  }
 ],
 "metadata": {
  "kernelspec": {
   "display_name": "Python 3",
   "language": "python",
   "name": "python3"
  },
  "language_info": {
   "codemirror_mode": {
    "name": "ipython",
    "version": 3
   },
   "file_extension": ".py",
   "mimetype": "text/x-python",
   "name": "python",
   "nbconvert_exporter": "python",
   "pygments_lexer": "ipython3",
   "version": "3.7.4"
  }
 },
 "nbformat": 4,
 "nbformat_minor": 2
}
